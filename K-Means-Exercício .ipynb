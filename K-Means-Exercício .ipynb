{
 "cells": [
  {
   "cell_type": "code",
   "execution_count": 18,
   "id": "052cb3f0",
   "metadata": {},
   "outputs": [],
   "source": [
    "import pandas as pd\n",
    "from sklearn.cluster import KMeans\n",
    "from sklearn.preprocessing import LabelEncoder, StandardScaler\n",
    "from sklearn.metrics import silhouette_score, calinski_harabasz_score\n",
    "import matplotlib.pyplot as plt\n",
    "from sklearn.decomposition import PCA"
   ]
  },
  {
   "cell_type": "code",
   "execution_count": 5,
   "id": "bf9e2986",
   "metadata": {},
   "outputs": [],
   "source": [
    "base = [\n",
    "    {\"Dia\": 1, \"Tempo\": \"Sol\", \"Temperatura\": \"Quente\", \"Umidade\": \"Alta\", \"Vento\": \"Fraco\"},\n",
    "    {\"Dia\": 2, \"Tempo\": \"Sol\", \"Temperatura\": \"Quente\", \"Umidade\": \"Alta\", \"Vento\": \"Forte\"},\n",
    "    {\"Dia\": 3, \"Tempo\": \"Nublado\", \"Temperatura\": \"Quente\", \"Umidade\": \"Alta\", \"Vento\": \"Fraco\"},\n",
    "    {\"Dia\": 4, \"Tempo\": \"Chuva\", \"Temperatura\": \"Mediana\", \"Umidade\": \"Alta\", \"Vento\": \"Fraco\"},\n",
    "    {\"Dia\": 5, \"Tempo\": \"Chuva\", \"Temperatura\": \"Frio\", \"Umidade\": \"Normal\", \"Vento\": \"Fraco\"},\n",
    "    {\"Dia\": 6, \"Tempo\": \"Chuva\", \"Temperatura\": \"Frio\", \"Umidade\": \"Normal\", \"Vento\": \"Forte\"},\n",
    "    {\"Dia\": 7, \"Tempo\": \"Nublado\", \"Temperatura\": \"Frio\", \"Umidade\": \"Normal\", \"Vento\": \"Forte\"},\n",
    "    {\"Dia\": 8, \"Tempo\": \"Sol\", \"Temperatura\": \"Mediana\", \"Umidade\": \"Alta\", \"Vento\": \"Fraco\"},\n",
    "    {\"Dia\": 9, \"Tempo\": \"Sol\", \"Temperatura\": \"Frio\", \"Umidade\": \"Normal\", \"Vento\": \"Fraco\"},\n",
    "    {\"Dia\": 10, \"Tempo\": \"Chuva\", \"Temperatura\": \"Mediana\", \"Umidade\": \"Normal\", \"Vento\": \"Fraco\"},\n",
    "    {\"Dia\": 11, \"Tempo\": \"Sol\", \"Temperatura\": \"Mediana\", \"Umidade\": \"Normal\", \"Vento\": \"Forte\"},\n",
    "    {\"Dia\": 12, \"Tempo\": \"Nublado\", \"Temperatura\": \"Mediana\", \"Umidade\": \"Alta\", \"Vento\": \"Forte\"},\n",
    "    {\"Dia\": 13, \"Tempo\": \"Nublado\", \"Temperatura\": \"Quente\", \"Umidade\": \"Normal\", \"Vento\": \"Fraco\"},\n",
    "    {\"Dia\": 14, \"Tempo\": \"Chuva\", \"Temperatura\": \"Mediana\", \"Umidade\": \"Alta\", \"Vento\": \"Forte\"},\n",
    "]"
   ]
  },
  {
   "cell_type": "code",
   "execution_count": 7,
   "id": "6bd16f7d",
   "metadata": {},
   "outputs": [
    {
     "data": {
      "text/html": [
       "<div>\n",
       "<style scoped>\n",
       "    .dataframe tbody tr th:only-of-type {\n",
       "        vertical-align: middle;\n",
       "    }\n",
       "\n",
       "    .dataframe tbody tr th {\n",
       "        vertical-align: top;\n",
       "    }\n",
       "\n",
       "    .dataframe thead th {\n",
       "        text-align: right;\n",
       "    }\n",
       "</style>\n",
       "<table border=\"1\" class=\"dataframe\">\n",
       "  <thead>\n",
       "    <tr style=\"text-align: right;\">\n",
       "      <th></th>\n",
       "      <th>Dia</th>\n",
       "      <th>Tempo</th>\n",
       "      <th>Temperatura</th>\n",
       "      <th>Umidade</th>\n",
       "      <th>Vento</th>\n",
       "    </tr>\n",
       "  </thead>\n",
       "  <tbody>\n",
       "    <tr>\n",
       "      <th>0</th>\n",
       "      <td>1</td>\n",
       "      <td>Sol</td>\n",
       "      <td>Quente</td>\n",
       "      <td>Alta</td>\n",
       "      <td>Fraco</td>\n",
       "    </tr>\n",
       "    <tr>\n",
       "      <th>1</th>\n",
       "      <td>2</td>\n",
       "      <td>Sol</td>\n",
       "      <td>Quente</td>\n",
       "      <td>Alta</td>\n",
       "      <td>Forte</td>\n",
       "    </tr>\n",
       "    <tr>\n",
       "      <th>2</th>\n",
       "      <td>3</td>\n",
       "      <td>Nublado</td>\n",
       "      <td>Quente</td>\n",
       "      <td>Alta</td>\n",
       "      <td>Fraco</td>\n",
       "    </tr>\n",
       "    <tr>\n",
       "      <th>3</th>\n",
       "      <td>4</td>\n",
       "      <td>Chuva</td>\n",
       "      <td>Mediana</td>\n",
       "      <td>Alta</td>\n",
       "      <td>Fraco</td>\n",
       "    </tr>\n",
       "    <tr>\n",
       "      <th>4</th>\n",
       "      <td>5</td>\n",
       "      <td>Chuva</td>\n",
       "      <td>Frio</td>\n",
       "      <td>Normal</td>\n",
       "      <td>Fraco</td>\n",
       "    </tr>\n",
       "  </tbody>\n",
       "</table>\n",
       "</div>"
      ],
      "text/plain": [
       "   Dia    Tempo Temperatura Umidade  Vento\n",
       "0    1      Sol      Quente    Alta  Fraco\n",
       "1    2      Sol      Quente    Alta  Forte\n",
       "2    3  Nublado      Quente    Alta  Fraco\n",
       "3    4    Chuva     Mediana    Alta  Fraco\n",
       "4    5    Chuva        Frio  Normal  Fraco"
      ]
     },
     "execution_count": 7,
     "metadata": {},
     "output_type": "execute_result"
    }
   ],
   "source": [
    "df = pd.DataFrame(base)\n",
    "df.head()"
   ]
  },
  {
   "cell_type": "code",
   "execution_count": 10,
   "id": "2b90aa4e",
   "metadata": {},
   "outputs": [],
   "source": [
    "#precisamos transformar esses dados em dados numéricos.\n",
    "\n",
    "# Transformar os dados categóricos em numéricos\n",
    "encoder = LabelEncoder()\n",
    "for column in [\"Tempo\", \"Temperatura\", \"Umidade\", \"Vento\"]:\n",
    "    df[column] = encoder.fit_transform(df[column])    "
   ]
  },
  {
   "cell_type": "code",
   "execution_count": 11,
   "id": "8fe72769",
   "metadata": {},
   "outputs": [],
   "source": [
    "# Normalizar os dados para melhorar o desempenho do k-means\n",
    "scaler = StandardScaler()\n",
    "df_scaled = scaler.fit_transform(df.drop(\"Dia\", axis=1))"
   ]
  },
  {
   "cell_type": "code",
   "execution_count": 21,
   "id": "d5010bd4",
   "metadata": {},
   "outputs": [
    {
     "name": "stdout",
     "output_type": "stream",
     "text": [
      "[[ 1.18321596  1.32287566 -1.          0.8660254 ]\n",
      " [ 1.18321596  1.32287566 -1.         -1.15470054]\n",
      " [ 0.          1.32287566 -1.          0.8660254 ]\n",
      " [-1.18321596  0.         -1.          0.8660254 ]\n",
      " [-1.18321596 -1.32287566  1.          0.8660254 ]\n",
      " [-1.18321596 -1.32287566  1.         -1.15470054]\n",
      " [ 0.         -1.32287566  1.         -1.15470054]\n",
      " [ 1.18321596  0.         -1.          0.8660254 ]\n",
      " [ 1.18321596 -1.32287566  1.          0.8660254 ]\n",
      " [-1.18321596  0.          1.          0.8660254 ]\n",
      " [ 1.18321596  0.          1.         -1.15470054]\n",
      " [ 0.          0.         -1.         -1.15470054]\n",
      " [ 0.          1.32287566  1.          0.8660254 ]\n",
      " [-1.18321596  0.         -1.         -1.15470054]]\n"
     ]
    }
   ],
   "source": [
    "#df.head(14)\n",
    "print(df_scaled)"
   ]
  },
  {
   "cell_type": "code",
   "execution_count": 26,
   "id": "8e7a80f5",
   "metadata": {},
   "outputs": [
    {
     "name": "stderr",
     "output_type": "stream",
     "text": [
      "C:\\Users\\super\\anaconda3\\Lib\\site-packages\\sklearn\\cluster\\_kmeans.py:1436: UserWarning: KMeans is known to have a memory leak on Windows with MKL, when there are less chunks than available threads. You can avoid it by setting the environment variable OMP_NUM_THREADS=1.\n",
      "  warnings.warn(\n",
      "C:\\Users\\super\\anaconda3\\Lib\\site-packages\\sklearn\\cluster\\_kmeans.py:1436: UserWarning: KMeans is known to have a memory leak on Windows with MKL, when there are less chunks than available threads. You can avoid it by setting the environment variable OMP_NUM_THREADS=1.\n",
      "  warnings.warn(\n"
     ]
    }
   ],
   "source": [
    "#Aplicando o algoritmo\n",
    "\n",
    "# Para k=2\n",
    "kmeans_2 = KMeans(n_clusters=2, n_init = 10, random_state=42)\n",
    "clusters_2 = kmeans_2.fit_predict(df_scaled)\n",
    "\n",
    "# Para k=3\n",
    "kmeans_3 = KMeans(n_clusters=3, n_init = 10, random_state=42)\n",
    "clusters_3 = kmeans_3.fit_predict(df_scaled)"
   ]
  },
  {
   "cell_type": "code",
   "execution_count": 27,
   "id": "80510d5c",
   "metadata": {},
   "outputs": [
    {
     "name": "stdout",
     "output_type": "stream",
     "text": [
      "K=2 -> Silhouette Score: 0.249, Calinski-Harabasz: 6.308\n",
      "K=3 -> Silhouette Score: 0.217, Calinski-Harabasz: 5.437\n"
     ]
    }
   ],
   "source": [
    "# Avaliação para k=2\n",
    "silhouette_k2 = silhouette_score(df_scaled, clusters_2)\n",
    "calinski_k2 = calinski_harabasz_score(df_scaled, clusters_2)\n",
    "\n",
    "# Avaliação para k=3\n",
    "silhouette_k3 = silhouette_score(df_scaled, clusters_3)\n",
    "calinski_k3 = calinski_harabasz_score(df_scaled, clusters_3)\n",
    "\n",
    "# Exibir resultados\n",
    "print(f\"K=2 -> Silhouette Score: {silhouette_k2:.3f}, Calinski-Harabasz: {calinski_k2:.3f}\")\n",
    "print(f\"K=3 -> Silhouette Score: {silhouette_k3:.3f}, Calinski-Harabasz: {calinski_k3:.3f}\")"
   ]
  },
  {
   "cell_type": "code",
   "execution_count": 19,
   "id": "5a949070",
   "metadata": {},
   "outputs": [
    {
     "data": {
      "image/png": "[encoded data removed]",
      "text/plain": [
       "<Figure size 640x480 with 1 Axes>"
      ]
     },
     "metadata": {},
     "output_type": "display_data"
    },
    {
     "data": {
      "image/png": "[encoded data removed]",
      "text/plain": [
       "<Figure size 640x480 with 1 Axes>"
      ]
     },
     "metadata": {},
     "output_type": "display_data"
    }
   ],
   "source": [
    "# Reduzir para 2 dimensões com PCA\n",
    "pca = PCA(n_components=2)\n",
    "df_pca = pca.fit_transform(df_scaled)\n",
    "\n",
    "# Plotar para k=2\n",
    "plt.scatter(df_pca[:, 0], df_pca[:, 1], c=clusters_2, cmap='viridis', label='k=2')\n",
    "plt.title('Clusters com k=2')\n",
    "plt.show()\n",
    "\n",
    "# Plotar para k=3\n",
    "plt.scatter(df_pca[:, 0], df_pca[:, 1], c=clusters_3, cmap='viridis', label='k=3')\n",
    "plt.title('Clusters com k=3')\n",
    "plt.show()"
   ]
  },
  {
   "cell_type": "code",
   "execution_count": null,
   "id": "2074b388",
   "metadata": {},
   "outputs": [],
   "source": []
  }
 ],
 "metadata": {
  "kernelspec": {
   "display_name": "Python 3 (ipykernel)",
   "language": "python",
   "name": "python3"
  },
  "language_info": {
   "codemirror_mode": {
    "name": "ipython",
    "version": 3
   },
   "file_extension": ".py",
   "mimetype": "text/x-python",
   "name": "python",
   "nbconvert_exporter": "python",
   "pygments_lexer": "ipython3",
   "version": "3.11.4"
  }
 },
 "nbformat": 4,
 "nbformat_minor": 5
}
